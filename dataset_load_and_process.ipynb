{
 "cells": [
  {
   "cell_type": "markdown",
   "id": "23732e2b",
   "metadata": {},
   "source": [
    "## LogiQA data processing"
   ]
  },
  {
   "cell_type": "code",
   "execution_count": null,
   "id": "5cd5afc8",
   "metadata": {},
   "outputs": [],
   "source": [
    "# Data processing\n",
    "import pandas as pd\n",
    "\n",
    "df = pd.read_parquet('data/logiqa_test.parquet') # 원본 데이터\n",
    "\n",
    "def option_processing(options):\n",
    "    # options = eval(options)  # Convert string representation of list to actual list\n",
    "    formatted_options = [f\"{chr(65 + i)}: {opt}\" for i, opt in enumerate(options)]\n",
    "    return \"\\n\".join(formatted_options)\n",
    "\n",
    "def process_logiqa_direct(context ,query, options):\n",
    "    option_str = option_processing(options)\n",
    "    input_text = f\"Answer the following question with the given context.\\n\\nContext: {context}\\n\\nQuestion: {query}\\n\\nOptions:\\n{option_str}\\n\\nOutput only the correct label as a single character. Do not add any extra text.\"\n",
    "    return input_text\n",
    "\n",
    "def process_logiqa_cot(context ,query, options):\n",
    "    option_str = option_processing(options)\n",
    "    input_text = f\"Answer the following question with the given context.\\n\\nContext: {context}\\n\\nQuestion: {query}\\n\\nOptions:\\n{option_str}\\n\\nLet's think step by step. After reasoning, output the correct label on the last line in this format: <A> / <B> / <C> / <D>.\"\n",
    "    return input_text\n",
    "\n",
    "df_input = df.copy()\n",
    "\n",
    "df_input['answer'] = df['correct_option'].apply(lambda x: chr(65 + x))  # Convert 0,1,2,3 to A,B,C,D\n",
    "df_input['qid'] = df.index\n",
    "df_input['dataset_name'] = 'logiqa'\n",
    "\n",
    "df_direct = df_input.copy()\n",
    "df_cot = df_input.copy()\n",
    "\n",
    "df_direct['input'] = df_input.apply(lambda row: process_logiqa_direct(row['context'], row['query'], row['options']), axis=1)\n",
    "df_cot['input'] = df_input.apply(lambda row: process_logiqa_cot(row['context'], row['query'], row['options']), axis=1)\n",
    "\n",
    "df_direct = df_direct[['qid', 'dataset_name', 'input', 'answer']]  # 데이터셋 포맷 통일\n",
    "df_cot = df_cot[['qid', 'dataset_name', 'input', 'answer']]  # 데이터셋 포맷 통일\n",
    "\n",
    "df_direct.to_csv('data/logiqa_test_direct.csv', index=False)\n",
    "df_cot.to_csv('data/logiqa_test_cot.csv', index=False)"
   ]
  },
  {
   "cell_type": "markdown",
   "id": "bce529b1",
   "metadata": {},
   "source": [
    "## Evaluation (Direct, CoT)"
   ]
  },
  {
   "cell_type": "code",
   "execution_count": 65,
   "id": "47c6c5a0",
   "metadata": {},
   "outputs": [
    {
     "name": "stdout",
     "output_type": "stream",
     "text": [
      "Accuracy: 0.5484\n"
     ]
    }
   ],
   "source": [
    "# Evaluation\n",
    "import pandas as pd\n",
    "\n",
    "file = 'result/Qwen3-8B-logiqa_test_direct.csv'\n",
    "df = pd.read_csv(file)\n",
    "accuracy = (df['answer'] == df['output']).mean()\n",
    "print(f\"Accuracy: {accuracy:.4f}\")"
   ]
  },
  {
   "cell_type": "code",
   "execution_count": null,
   "id": "7348629f",
   "metadata": {},
   "outputs": [
    {
     "name": "stdout",
     "output_type": "stream",
     "text": [
      "추출 실패 개수: 86 / 651\n",
      "Accuracy (추출실패 포함): 0.5223\n",
      "Accuracy (추출성공만): 0.6018\n"
     ]
    }
   ],
   "source": [
    "# evaluation CoT\n",
    "file = 'result/Qwen3-8B-logiqa_test_cot.csv'\n",
    "df = pd.read_csv(file)\n",
    "\n",
    "def extract(str):\n",
    "    # <와 >사이를 추출\n",
    "    import re\n",
    "    match = re.search(r'<([A-D])>', str)\n",
    "    if match:\n",
    "        return match.group(1)\n",
    "    else:\n",
    "        return None\n",
    "df['extracted_output'] = df['output'].apply(extract)\n",
    "\n",
    "print(f\"추출 실패 개수: {df['extracted_output'].isna().sum()} / {len(df)}\")\n",
    "accuracy = (df['answer'] == df['extracted_output']).mean()\n",
    "print(f\"Accuracy (추출실패 포함): {accuracy:.4f}\")\n",
    "\n",
    "# df['extracted_output'].value_counts(dropna=False) # 추출안된 것 확인\n",
    "\n",
    "df_dropna = df.dropna(subset=['extracted_output'])\n",
    "accuracy = (df_dropna['answer'] == df_dropna['extracted_output']).mean()\n",
    "print(f\"Accuracy (추출성공만): {accuracy:.4f}\")\n",
    "\n",
    "\n",
    "# Qwen3-8B는 Reasoning tuning이 된 모델이라서 일반적인 CoT와 다른 경향을 보일 수도 있을듯"
   ]
  }
 ],
 "metadata": {
  "kernelspec": {
   "display_name": "testvenv",
   "language": "python",
   "name": "python3"
  },
  "language_info": {
   "codemirror_mode": {
    "name": "ipython",
    "version": 3
   },
   "file_extension": ".py",
   "mimetype": "text/x-python",
   "name": "python",
   "nbconvert_exporter": "python",
   "pygments_lexer": "ipython3",
   "version": "3.12.11"
  }
 },
 "nbformat": 4,
 "nbformat_minor": 5
}
