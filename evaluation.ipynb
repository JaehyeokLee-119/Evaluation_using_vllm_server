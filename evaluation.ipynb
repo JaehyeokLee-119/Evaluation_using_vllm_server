{
 "cells": [
  {
   "cell_type": "markdown",
   "id": "bce529b1",
   "metadata": {},
   "source": [
    "## Evaluation (Direct, CoT)"
   ]
  },
  {
   "cell_type": "code",
   "execution_count": 65,
   "id": "47c6c5a0",
   "metadata": {},
   "outputs": [
    {
     "name": "stdout",
     "output_type": "stream",
     "text": [
      "Accuracy: 0.5484\n"
     ]
    }
   ],
   "source": [
    "# Evaluation\n",
    "import pandas as pd\n",
    "\n",
    "file = 'result/Qwen3-8B-logiqa_test_direct.csv'\n",
    "df = pd.read_csv(file)\n",
    "accuracy = (df['answer'] == df['output']).mean()\n",
    "print(f\"Accuracy: {accuracy:.4f}\")"
   ]
  },
  {
   "cell_type": "code",
   "execution_count": null,
   "id": "7348629f",
   "metadata": {},
   "outputs": [
    {
     "name": "stdout",
     "output_type": "stream",
     "text": [
      "추출 실패 개수: 86 / 651\n",
      "Accuracy (추출실패 포함): 0.5223\n",
      "Accuracy (추출성공만): 0.6018\n"
     ]
    }
   ],
   "source": [
    "# evaluation CoT\n",
    "file = 'result/Qwen3-8B-logiqa_test_cot.csv'\n",
    "df = pd.read_csv(file)\n",
    "\n",
    "def extract(str):\n",
    "    # <와 >사이를 추출\n",
    "    import re\n",
    "    match = re.search(r'<([A-D])>', str)\n",
    "    if match:\n",
    "        return match.group(1)\n",
    "    else:\n",
    "        return None\n",
    "df['extracted_output'] = df['output'].apply(extract)\n",
    "\n",
    "print(f\"추출 실패 개수: {df['extracted_output'].isna().sum()} / {len(df)}\")\n",
    "accuracy = (df['answer'] == df['extracted_output']).mean()\n",
    "print(f\"Accuracy (추출실패 포함): {accuracy:.4f}\") # => 재추출필요\n",
    "\n",
    "# df['extracted_output'].value_counts(dropna=False) # 추출안된 것 확인\n",
    "\n",
    "df_dropna = df.dropna(subset=['extracted_output'])\n",
    "accuracy = (df_dropna['answer'] == df_dropna['extracted_output']).mean()\n",
    "print(f\"Accuracy (추출성공만): {accuracy:.4f}\")\n",
    "\n",
    "\n",
    "# Qwen3-8B는 Reasoning tuning이 된 모델이라서 일반적인 CoT와 다른 경향을 보일 수도 있을듯"
   ]
  }
 ],
 "metadata": {
  "kernelspec": {
   "display_name": "testvenv",
   "language": "python",
   "name": "python3"
  },
  "language_info": {
   "codemirror_mode": {
    "name": "ipython",
    "version": 3
   },
   "file_extension": ".py",
   "mimetype": "text/x-python",
   "name": "python",
   "nbconvert_exporter": "python",
   "pygments_lexer": "ipython3",
   "version": "3.12.11"
  }
 },
 "nbformat": 4,
 "nbformat_minor": 5
}
